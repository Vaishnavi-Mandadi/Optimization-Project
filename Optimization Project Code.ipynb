{
  "cells": [
    {
      "cell_type": "code",
      "execution_count": 19,
      "id": "8fe7aaef",
      "metadata": {
        "colab": {
          "base_uri": "https://localhost:8080/"
        },
        "id": "8fe7aaef",
        "outputId": "fb27cd1b-c096-40af-d4ee-469cfae643f9"
      },
      "outputs": [
        {
          "output_type": "stream",
          "name": "stdout",
          "text": [
            "Looking in indexes: https://pypi.org/simple, https://us-python.pkg.dev/colab-wheels/public/simple/\n",
            "Requirement already satisfied: pulp in /usr/local/lib/python3.10/dist-packages (2.7.0)\n"
          ]
        }
      ],
      "source": [
        "!pip install pulp"
      ]
    },
    {
      "cell_type": "code",
      "source": [
        "from pulp import *\n",
        "import pandas as pd"
      ],
      "metadata": {
        "id": "XfvjAkg5KGH4"
      },
      "id": "XfvjAkg5KGH4",
      "execution_count": 20,
      "outputs": []
    },
    {
      "cell_type": "markdown",
      "source": [
        "# **Data**"
      ],
      "metadata": {
        "id": "WMNRmAzFjkq-"
      },
      "id": "WMNRmAzFjkq-"
    },
    {
      "cell_type": "markdown",
      "source": [
        "**Add data**"
      ],
      "metadata": {
        "id": "SzUS3DY-j0Qq"
      },
      "id": "SzUS3DY-j0Qq"
    },
    {
      "cell_type": "code",
      "execution_count": 21,
      "id": "e3b93223",
      "metadata": {
        "id": "e3b93223"
      },
      "outputs": [],
      "source": [
        "# data\n",
        "feedstocks = ['Alkylate', 'CCG', 'SRG', 'Isopentane']\n",
        "gas_types = ['A', 'B', 'C']\n",
        "\n",
        "#feedstocks data\n",
        "gallons_available = dict(zip(feedstocks, [140000, 130000, 140000, 110000]))\n",
        "value_per_gallon = dict(zip(feedstocks, [4.50, 2.50, 2.25, 2.35]))\n",
        "reid_vapor_pressure = dict(zip(feedstocks, [5, 8, 4, 20]))\n",
        "octane_rating_low = dict(zip(feedstocks, [98, 87, 83, 101]))\n",
        "octane_rating_high = dict(zip(feedstocks, [107, 93, 89, 108]))\n",
        "\n",
        "#Gas data\n",
        "gallons_required = dict(zip(gas_types, [120000, 130000, 120000]))\n",
        "price_per_gallon = dict(zip(gas_types, [3.00, 3.50, 4.00]))\n",
        "max_reid_pressure = dict(zip(gas_types, [7, 7, 7]))\n",
        "min_octane_rating = dict(zip(gas_types, [90, 97, 100]))\n"
      ]
    },
    {
      "cell_type": "markdown",
      "source": [
        "#**Programming**\n",
        "**Formulate Linear Programming (LP) Problem**"
      ],
      "metadata": {
        "id": "H95W_UGUkXns"
      },
      "id": "H95W_UGUkXns"
    },
    {
      "cell_type": "code",
      "execution_count": 22,
      "id": "008b834f",
      "metadata": {
        "id": "008b834f"
      },
      "outputs": [],
      "source": [
        "# problem definition\n",
        "prob = LpProblem('GasolineBlendingProblem', LpMaximize)"
      ]
    },
    {
      "cell_type": "code",
      "execution_count": 23,
      "id": "9e69c82e",
      "metadata": {
        "id": "9e69c82e"
      },
      "outputs": [],
      "source": [
        "#Decision Variables\n",
        "variable = LpVariable.dicts(\"gasoline\", (feedstocks, gas_types), 0, None, LpContinuous)"
      ]
    },
    {
      "cell_type": "code",
      "source": [
        "print(variable)"
      ],
      "metadata": {
        "id": "bi8u3ot0WFW8",
        "colab": {
          "base_uri": "https://localhost:8080/"
        },
        "outputId": "2bc37568-7d62-4f53-d315-624bac687f7e"
      },
      "id": "bi8u3ot0WFW8",
      "execution_count": 24,
      "outputs": [
        {
          "output_type": "stream",
          "name": "stdout",
          "text": [
            "{'Alkylate': {'A': gasoline_Alkylate_A, 'B': gasoline_Alkylate_B, 'C': gasoline_Alkylate_C}, 'CCG': {'A': gasoline_CCG_A, 'B': gasoline_CCG_B, 'C': gasoline_CCG_C}, 'SRG': {'A': gasoline_SRG_A, 'B': gasoline_SRG_B, 'C': gasoline_SRG_C}, 'Isopentane': {'A': gasoline_Isopentane_A, 'B': gasoline_Isopentane_B, 'C': gasoline_Isopentane_C}}\n"
          ]
        }
      ]
    },
    {
      "cell_type": "code",
      "execution_count": 25,
      "id": "852177a0",
      "metadata": {
        "id": "852177a0"
      },
      "outputs": [],
      "source": [
        "#Leftover Calculation\n",
        "Leftover = {f: gallons_available[f] - lpSum(variable[f]) for f in feedstocks}"
      ]
    },
    {
      "cell_type": "code",
      "execution_count": 26,
      "id": "50b86072",
      "metadata": {
        "id": "50b86072"
      },
      "outputs": [],
      "source": [
        "\n",
        "#Selling gasoline Calculation\n",
        "sell_gas= {g: lpSum(variable[f][g] for f in feedstocks) for g in gas_types}"
      ]
    },
    {
      "cell_type": "markdown",
      "source": [
        "**Objective Function**"
      ],
      "metadata": {
        "id": "xIZ_LUoZkwRm"
      },
      "id": "xIZ_LUoZkwRm"
    },
    {
      "cell_type": "code",
      "execution_count": 27,
      "id": "a081de58",
      "metadata": {
        "id": "a081de58"
      },
      "outputs": [],
      "source": [
        "#Objective function for Revenue\n",
        "prob += lpSum(price_per_gallon[g] * sell_gas[g] for g in gas_types) + lpSum(value_per_gallon[f] * Leftover[f] for f in feedstocks), \"Total Revenue\""
      ]
    },
    {
      "cell_type": "markdown",
      "source": [
        "**Constraints**"
      ],
      "metadata": {
        "id": "YnIcnCzYk8Ds"
      },
      "id": "YnIcnCzYk8Ds"
    },
    {
      "cell_type": "code",
      "execution_count": 28,
      "id": "b677e852",
      "metadata": {
        "id": "b677e852"
      },
      "outputs": [],
      "source": [
        "#ReidVapour Constraints\n",
        "for g in gas_types:\n",
        "    prob += (variable[f][g]* reid_vapor_pressure[f] for f in feedstocks) <= lpSum(variable[f][g]*max_reid_pressure[g] for f in feedstocks)"
      ]
    },
    {
      "cell_type": "code",
      "execution_count": 29,
      "id": "a3ab15e9",
      "metadata": {
        "id": "a3ab15e9"
      },
      "outputs": [],
      "source": [
        "#Octane Rating Constraints\n",
        "for g in gas_types:\n",
        "    if g == 'A':\n",
        "        prob += lpSum([variable[f][g] * octane_rating_low[f] for f in feedstocks]) >= lpSum(variable[f][g] * min_octane_rating[g] for f in feedstocks)\n",
        "    else:\n",
        "        prob += lpSum([variable[f][g] * octane_rating_high[f] for f in feedstocks]) >= lpSum(variable[f][g] * min_octane_rating[g] for f in feedstocks)"
      ]
    },
    {
      "cell_type": "code",
      "execution_count": 30,
      "id": "5a241dde",
      "metadata": {
        "id": "5a241dde"
      },
      "outputs": [],
      "source": [
        "#Gas A produced is atleast as large as Gas B\n",
        "prob += lpSum(variable[f][\"A\"] for f in feedstocks) >= lpSum(variable[f][\"B\"] for f in feedstocks)"
      ]
    },
    {
      "cell_type": "code",
      "execution_count": 31,
      "id": "d8221ff0",
      "metadata": {
        "id": "d8221ff0"
      },
      "outputs": [],
      "source": [
        "#Total Gallons made greater then Required\n",
        "for g in gas_types:\n",
        "    prob += lpSum(variable[f][g] for f in feedstocks) >= gallons_required[g]"
      ]
    },
    {
      "cell_type": "code",
      "source": [
        "#Total Used should be less than Availability\n",
        "for f in feedstocks:\n",
        "    prob += lpSum(variable[f]) <= gallons_available[f]\n",
        "    "
      ],
      "metadata": {
        "id": "HvWRtf-2lCVz"
      },
      "id": "HvWRtf-2lCVz",
      "execution_count": 32,
      "outputs": []
    },
    {
      "cell_type": "markdown",
      "source": [
        "**Run Optimization Algorithm**"
      ],
      "metadata": {
        "id": "AzAmYbODkhgk"
      },
      "id": "AzAmYbODkhgk"
    },
    {
      "cell_type": "code",
      "execution_count": 33,
      "id": "2ecad3da",
      "metadata": {
        "colab": {
          "base_uri": "https://localhost:8080/"
        },
        "id": "2ecad3da",
        "outputId": "6c8562a1-636e-4e23-b637-2a8a25cc8a0e"
      },
      "outputs": [
        {
          "output_type": "execute_result",
          "data": {
            "text/plain": [
              "1"
            ]
          },
          "metadata": {},
          "execution_count": 33
        }
      ],
      "source": [
        "prob.solve()"
      ]
    },
    {
      "cell_type": "markdown",
      "source": [
        "**Get Status & Results**"
      ],
      "metadata": {
        "id": "P9XZHyYUkpDh"
      },
      "id": "P9XZHyYUkpDh"
    },
    {
      "cell_type": "code",
      "source": [
        "print(\"Status:\", LpStatus[prob.status])"
      ],
      "metadata": {
        "colab": {
          "base_uri": "https://localhost:8080/"
        },
        "id": "Xo6DxOBXhgFo",
        "outputId": "ac97f4f2-819c-44d9-f069-25638940ce76"
      },
      "id": "Xo6DxOBXhgFo",
      "execution_count": 34,
      "outputs": [
        {
          "output_type": "stream",
          "name": "stdout",
          "text": [
            "Status: Optimal\n"
          ]
        }
      ]
    },
    {
      "cell_type": "code",
      "source": [
        "for v in prob.variables():\n",
        "    print(v.name, \"=\", v.varValue)"
      ],
      "metadata": {
        "colab": {
          "base_uri": "https://localhost:8080/"
        },
        "id": "MpbGuyGshx8l",
        "outputId": "159af0a6-9dc4-4fbd-9097-4cc775d9fc70"
      },
      "id": "MpbGuyGshx8l",
      "execution_count": 35,
      "outputs": [
        {
          "output_type": "stream",
          "name": "stdout",
          "text": [
            "gasoline_Alkylate_A = 37131.064\n",
            "gasoline_Alkylate_B = 34312.268\n",
            "gasoline_Alkylate_C = 68556.668\n",
            "gasoline_CCG_A = 87887.023\n",
            "gasoline_CCG_B = 0.0\n",
            "gasoline_CCG_C = 0.0\n",
            "gasoline_Isopentane_A = 82.552639\n",
            "gasoline_Isopentane_B = 22230.483\n",
            "gasoline_Isopentane_C = 24772.578\n",
            "gasoline_SRG_A = 4899.36\n",
            "gasoline_SRG_B = 73457.249\n",
            "gasoline_SRG_C = 61643.391\n"
          ]
        }
      ]
    },
    {
      "cell_type": "code",
      "execution_count": 36,
      "id": "460325d3",
      "metadata": {
        "colab": {
          "base_uri": "https://localhost:8080/"
        },
        "id": "460325d3",
        "outputId": "bd022e1c-1bbc-4303-916d-5f83b74836a2"
      },
      "outputs": [
        {
          "output_type": "stream",
          "name": "stdout",
          "text": [
            "Total revenue =  1718021.7973653502\n"
          ]
        }
      ],
      "source": [
        "print(\"Total revenue = \", value(prob.objective))\n"
      ]
    },
    {
      "cell_type": "code",
      "source": [
        "a = [{'name':name,'shadow price':g.pi,'slack': g.slack} for name, g in prob.constraints.items()]\n",
        "\n",
        "print(pd.DataFrame(a))"
      ],
      "metadata": {
        "colab": {
          "base_uri": "https://localhost:8080/"
        },
        "id": "RuoUdH-thqml",
        "outputId": "8c6dd646-e97c-4f89-d14e-fd9fbe926eb3"
      },
      "id": "RuoUdH-thqml",
      "execution_count": 37,
      "outputs": [
        {
          "output_type": "stream",
          "name": "stdout",
          "text": [
            "    name  shadow price         slack\n",
            "0    _C1     -0.272305 -0.000000e+00\n",
            "1    _C2     -0.240019 -0.000000e+00\n",
            "2    _C3     -0.240019 -0.000000e+00\n",
            "3    _C4     -0.222690 -0.000000e+00\n",
            "4    _C5     -0.183782  7.909289e-12\n",
            "5    _C6     -0.183782  7.163692e-12\n",
            "6    _C7     -0.440377 -0.000000e+00\n",
            "7    _C8     -0.000000 -1.000000e+04\n",
            "8    _C9     -0.389032 -0.000000e+00\n",
            "9   _C10     -0.000000 -3.497264e+04\n",
            "10  _C11      1.266511 -0.000000e+00\n",
            "11  _C12     -0.000000  4.211298e+04\n",
            "12  _C13      0.448460 -0.000000e+00\n",
            "13  _C14     -0.000000  6.291439e+04\n"
          ]
        }
      ]
    }
  ],
  "metadata": {
    "kernelspec": {
      "display_name": "Python 3 (ipykernel)",
      "language": "python",
      "name": "python3"
    },
    "language_info": {
      "codemirror_mode": {
        "name": "ipython",
        "version": 3
      },
      "file_extension": ".py",
      "mimetype": "text/x-python",
      "name": "python",
      "nbconvert_exporter": "python",
      "pygments_lexer": "ipython3",
      "version": "3.9.7"
    },
    "colab": {
      "provenance": []
    }
  },
  "nbformat": 4,
  "nbformat_minor": 5
}